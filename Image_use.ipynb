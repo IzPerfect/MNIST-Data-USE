{
 "cells": [
  {
   "cell_type": "code",
   "execution_count": 1,
   "metadata": {},
   "outputs": [
    {
     "name": "stdout",
     "output_type": "stream",
     "text": [
      "tensorflow version is :  1.4.0\n"
     ]
    }
   ],
   "source": [
    "import tensorflow as tf\n",
    "import numpy as np \n",
    "import matplotlib.pyplot as plt\n",
    "import os\n",
    "from scipy.misc import imread, imresize\n",
    "from tensorflow.examples.tutorials.mnist import input_data\n",
    "\n",
    "%matplotlib inline\n",
    "print('tensorflow version is : ',tf.__version__)"
   ]
  },
  {
   "cell_type": "markdown",
   "metadata": {},
   "source": [
    "# Download MNIST dataset"
   ]
  },
  {
   "cell_type": "code",
   "execution_count": 2,
   "metadata": {},
   "outputs": [
    {
     "name": "stdout",
     "output_type": "stream",
     "text": [
      "Extracting ./data/mnist\\train-images-idx3-ubyte.gz\n",
      "Extracting ./data/mnist\\train-labels-idx1-ubyte.gz\n",
      "Extracting ./data/mnist\\t10k-images-idx3-ubyte.gz\n",
      "Extracting ./data/mnist\\t10k-labels-idx1-ubyte.gz\n",
      "MNIST type is <class 'tensorflow.contrib.learn.python.learn.datasets.base.Datasets'>\n"
     ]
    }
   ],
   "source": [
    "mnist = input_data.read_data_sets('./data/mnist', one_hot=True) # download\n",
    "\n",
    "print('MNIST type is {}'.format(type(mnist)))"
   ]
  },
  {
   "cell_type": "markdown",
   "metadata": {},
   "source": [
    "# MNIST Train, Test data"
   ]
  },
  {
   "cell_type": "code",
   "execution_count": 3,
   "metadata": {},
   "outputs": [
    {
     "name": "stdout",
     "output_type": "stream",
     "text": [
      "mnist test :  <tensorflow.contrib.learn.python.learn.datasets.mnist.DataSet object at 0x000000000E3356A0>\n",
      "mnist test.images.shape : (10000, 784)\n",
      "mnist test.labels.shape : (10000, 10)\n",
      "mnist test.num_examples : 10000\n"
     ]
    },
    {
     "data": {
      "text/plain": [
       "<matplotlib.image.AxesImage at 0xeba4da0>"
      ]
     },
     "execution_count": 3,
     "metadata": {},
     "output_type": "execute_result"
    },
    {
     "data": {
      "image/png": "[encoded data removed]",
      "text/plain": [
       "<matplotlib.figure.Figure at 0xe341c18>"
      ]
     },
     "metadata": {},
     "output_type": "display_data"
    }
   ],
   "source": [
    "# test(epochs_completed, images, labels, next_batch, num_examples)\n",
    "\n",
    "print('mnist test : ', mnist.test)\n",
    "print('mnist test.images.shape : {}'.format(mnist.test.images.shape)) # MNIST test imgaes\n",
    "print('mnist test.labels.shape : {}'.format(mnist.test.labels.shape)) # MNIST test labels\n",
    "print('mnist test.num_examples : {}'.format(mnist.test.num_examples)) # Number of examples\n",
    "\n",
    "# plot randomly test image \n",
    "\n",
    "randidx = np.random.randint(mnist.test.images.shape[0], size=1)\n",
    "image_sample = mnist.test.images[randidx].reshape([28,28])\n",
    "plt.figure(figsize=(3,3)) # resize figure\n",
    "\n",
    "# clear scale mark\n",
    "plt.xticks([])\n",
    "plt.yticks([])\n",
    "\n",
    "plt.title('{}'.format(np.argmax(mnist.test.labels[randidx]))) # title is label of image\n",
    "plt.imshow(image_sample, cmap = plt.cm.gray_r) # cmap = plt.get_cmap('gray') => reverse white and black"
   ]
  },
  {
   "cell_type": "code",
   "execution_count": 4,
   "metadata": {},
   "outputs": [
    {
     "name": "stdout",
     "output_type": "stream",
     "text": [
      "mnist train :  <tensorflow.contrib.learn.python.learn.datasets.mnist.DataSet object at 0x000000000E335630>\n",
      "mnist train.images.shape : (55000, 784)\n",
      "mnist train.labels.shape : (55000, 10)\n",
      "mnist train.num_examples : 55000\n"
     ]
    },
    {
     "data": {
      "text/plain": [
       "<matplotlib.image.AxesImage at 0xebf9390>"
      ]
     },
     "execution_count": 4,
     "metadata": {},
     "output_type": "execute_result"
    },
    {
     "data": {
      "image/png": "[encoded data removed]",
      "text/plain": [
       "<matplotlib.figure.Figure at 0xe3417b8>"
      ]
     },
     "metadata": {},
     "output_type": "display_data"
    }
   ],
   "source": [
    "# train(epochs_completed, images, labels, next_batch, num_examples)\n",
    "\n",
    "print('mnist train : ', mnist.train)\n",
    "print('mnist train.images.shape : {}'.format(mnist.train.images.shape)) # MNIST train imgaes\n",
    "print('mnist train.labels.shape : {}'.format(mnist.train.labels.shape)) # MNIST train labels\n",
    "print('mnist train.num_examples : {}'.format(mnist.train.num_examples)) # Number of examples\n",
    "\n",
    "# plot train image\n",
    "\n",
    "randidx = np.random.randint(mnist.train.images.shape[0], size=1)\n",
    "image_sample = mnist.train.images[randidx].reshape([28,28])\n",
    "plt.figure(figsize=(3,3)) # resize figure\n",
    "\n",
    "# clear scale mark\n",
    "plt.xticks([])\n",
    "plt.yticks([])\n",
    "\n",
    "plt.title('{}'.format(np.argmax(mnist.train.labels[randidx]))) # title is label of image\n",
    "plt.imshow(image_sample, cmap = plt.cm.gray_r) # cmap = plt.get_cmap('gray') => reverse white and black"
   ]
  },
  {
   "cell_type": "markdown",
   "metadata": {},
   "source": [
    "# batch"
   ]
  },
  {
   "cell_type": "code",
   "execution_count": 5,
   "metadata": {},
   "outputs": [
    {
     "name": "stdout",
     "output_type": "stream",
     "text": [
      "batch_xs shape : (10, 784)\n",
      "batch_ys shape : (10, 10)\n"
     ]
    }
   ],
   "source": [
    "batch_size = 10\n",
    "batch_xs, batch_ys = mnist.train.next_batch(batch_size)\n",
    "\n",
    "print('batch_xs shape : {}'.format(batch_xs.shape))\n",
    "print('batch_ys shape : {}'.format(batch_ys.shape))"
   ]
  },
  {
   "cell_type": "code",
   "execution_count": 6,
   "metadata": {},
   "outputs": [
    {
     "name": "stdout",
     "output_type": "stream",
     "text": [
      "0 [ 0.  0.  0.  1.  0.  0.  0.  0.  0.  0.]\n",
      "1 [ 0.  0.  1.  0.  0.  0.  0.  0.  0.  0.]\n",
      "2 [ 0.  0.  0.  0.  0.  0.  0.  1.  0.  0.]\n",
      "3 [ 0.  0.  0.  0.  0.  0.  0.  0.  1.  0.]\n",
      "4 [ 0.  0.  0.  0.  0.  0.  1.  0.  0.  0.]\n",
      "5 [ 0.  0.  0.  0.  1.  0.  0.  0.  0.  0.]\n",
      "6 [ 0.  0.  0.  0.  1.  0.  0.  0.  0.  0.]\n",
      "7 [ 0.  0.  0.  0.  0.  0.  1.  0.  0.  0.]\n",
      "8 [ 0.  0.  0.  0.  0.  1.  0.  0.  0.  0.]\n",
      "9 [ 0.  0.  0.  0.  0.  0.  0.  0.  1.  0.]\n"
     ]
    }
   ],
   "source": [
    "# next batch, different data \n",
    "for i in range(10):\n",
    "    batch_xs, batch_ys = mnist.train.next_batch(batch_size)\n",
    "    print(i,batch_ys[0])"
   ]
  },
  {
   "cell_type": "code",
   "execution_count": null,
   "metadata": {},
   "outputs": [],
   "source": []
  }
 ],
 "metadata": {
  "kernelspec": {
   "display_name": "Python 3",
   "language": "python",
   "name": "python3"
  },
  "language_info": {
   "codemirror_mode": {
    "name": "ipython",
    "version": 3
   },
   "file_extension": ".py",
   "mimetype": "text/x-python",
   "name": "python",
   "nbconvert_exporter": "python",
   "pygments_lexer": "ipython3",
   "version": "3.5.4"
  }
 },
 "nbformat": 4,
 "nbformat_minor": 2
}
